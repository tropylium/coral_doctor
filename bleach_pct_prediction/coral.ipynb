{
 "cells": [
  {
   "cell_type": "markdown",
   "metadata": {},
   "source": [
    "# Imports"
   ]
  },
  {
   "cell_type": "code",
   "execution_count": 60,
   "metadata": {},
   "outputs": [],
   "source": [
    "import geopandas as gpd\n",
    "from sklearn.model_selection import train_test_split\n",
    "import plotly.express as px\n",
    "from sklearn.exceptions import DataConversionWarning, UndefinedMetricWarning, ConvergenceWarning\n",
    "from statsmodels.miscmodels.ordinal_model import OrderedModel\n",
    "from sklearn.model_selection import GridSearchCV\n",
    "from sklearn.svm import SVC\n",
    "from sklearn.pipeline import Pipeline\n",
    "from sklearn.preprocessing import StandardScaler, MinMaxScaler, RobustScaler\n",
    "from sklearn.compose import ColumnTransformer\n",
    "from sklearn.linear_model import LogisticRegression\n",
    "from sklearn.neighbors import KNeighborsClassifier\n",
    "from sklearn.ensemble import GradientBoostingClassifier\n",
    "from sklearn.metrics import confusion_matrix, classification_report\n",
    "import statsmodels.api as sm\n",
    "import matplotlib.pyplot as plt\n",
    "import pandas as pd\n",
    "from pandas.api.types import CategoricalDtype\n",
    "import seaborn as sns\n",
    "import numpy as np\n",
    "sns.set(rc={'figure.figsize': (15, 10)})\n",
    "import warnings\n",
    "warnings.filterwarnings(action='ignore', category=DataConversionWarning)\n",
    "warnings.filterwarnings(action='ignore', category=UndefinedMetricWarning)\n",
    "warnings.filterwarnings(action='ignore', category=ConvergenceWarning)\n",
    "\n"
   ]
  },
  {
   "cell_type": "markdown",
   "metadata": {},
   "source": [
    "# Data Processing"
   ]
  },
  {
   "cell_type": "code",
   "execution_count": 61,
   "metadata": {},
   "outputs": [
    {
     "data": {
      "text/html": [
       "<div>\n",
       "<style scoped>\n",
       "    .dataframe tbody tr th:only-of-type {\n",
       "        vertical-align: middle;\n",
       "    }\n",
       "\n",
       "    .dataframe tbody tr th {\n",
       "        vertical-align: top;\n",
       "    }\n",
       "\n",
       "    .dataframe thead th {\n",
       "        text-align: right;\n",
       "    }\n",
       "</style>\n",
       "<table border=\"1\" class=\"dataframe\">\n",
       "  <thead>\n",
       "    <tr style=\"text-align: right;\">\n",
       "      <th></th>\n",
       "      <th>id</th>\n",
       "      <th>obs_id</th>\n",
       "      <th>date</th>\n",
       "      <th>first_name</th>\n",
       "      <th>last_name</th>\n",
       "      <th>region</th>\n",
       "      <th>location</th>\n",
       "      <th>color</th>\n",
       "      <th>shape</th>\n",
       "      <th>species</th>\n",
       "      <th>bleach_pct</th>\n",
       "      <th>depth_ft</th>\n",
       "      <th>h2o_temp_f</th>\n",
       "      <th>comment</th>\n",
       "      <th>photo_url</th>\n",
       "      <th>submit_lat</th>\n",
       "      <th>submit_lon</th>\n",
       "      <th>size_bytes</th>\n",
       "      <th>md5</th>\n",
       "      <th>geometry</th>\n",
       "    </tr>\n",
       "  </thead>\n",
       "  <tbody>\n",
       "    <tr>\n",
       "      <th>0</th>\n",
       "      <td>hi_himb_all_coralcard.243</td>\n",
       "      <td>175</td>\n",
       "      <td>2019-10-15 09:42:00</td>\n",
       "      <td>Darrell</td>\n",
       "      <td>Kuamo'o</td>\n",
       "      <td>Hawaii</td>\n",
       "      <td>Richardson Ocean Center</td>\n",
       "      <td>4</td>\n",
       "      <td>mound</td>\n",
       "      <td>Porites lobata</td>\n",
       "      <td>None</td>\n",
       "      <td>3.0</td>\n",
       "      <td>NaN</td>\n",
       "      <td>EHAP transect line, coral #1</td>\n",
       "      <td>None</td>\n",
       "      <td>19.737334</td>\n",
       "      <td>-155.013803</td>\n",
       "      <td>None</td>\n",
       "      <td>None</td>\n",
       "      <td>POINT (-155.01380 19.73733)</td>\n",
       "    </tr>\n",
       "    <tr>\n",
       "      <th>1</th>\n",
       "      <td>hi_himb_all_coralcard.250</td>\n",
       "      <td>182</td>\n",
       "      <td>2019-10-15 09:42:00</td>\n",
       "      <td>Darrell</td>\n",
       "      <td>Kuamo'o</td>\n",
       "      <td>Hawaii</td>\n",
       "      <td>Richardson Ocean Center</td>\n",
       "      <td>4</td>\n",
       "      <td>mound</td>\n",
       "      <td>Porites lobata</td>\n",
       "      <td>None</td>\n",
       "      <td>3.0</td>\n",
       "      <td>NaN</td>\n",
       "      <td>EHAP transect line, coral #8</td>\n",
       "      <td>None</td>\n",
       "      <td>19.737334</td>\n",
       "      <td>-155.013803</td>\n",
       "      <td>None</td>\n",
       "      <td>None</td>\n",
       "      <td>POINT (-155.01380 19.73733)</td>\n",
       "    </tr>\n",
       "    <tr>\n",
       "      <th>2</th>\n",
       "      <td>hi_himb_all_coralcard.257</td>\n",
       "      <td>189</td>\n",
       "      <td>2019-10-15 09:52:00</td>\n",
       "      <td>Darrell</td>\n",
       "      <td>Kuamo'o</td>\n",
       "      <td>Hawaii</td>\n",
       "      <td>Richardson Ocean Center</td>\n",
       "      <td>22</td>\n",
       "      <td>branch</td>\n",
       "      <td>Pocillopora meandrina</td>\n",
       "      <td>None</td>\n",
       "      <td>3.0</td>\n",
       "      <td>NaN</td>\n",
       "      <td>EHAP transect line 4, coral #5</td>\n",
       "      <td>None</td>\n",
       "      <td>19.737325</td>\n",
       "      <td>-155.013812</td>\n",
       "      <td>None</td>\n",
       "      <td>None</td>\n",
       "      <td>POINT (-155.01381 19.73732)</td>\n",
       "    </tr>\n",
       "    <tr>\n",
       "      <th>3</th>\n",
       "      <td>hi_himb_all_coralcard.263</td>\n",
       "      <td>195</td>\n",
       "      <td>2019-10-08 11:50:00</td>\n",
       "      <td>Anke</td>\n",
       "      <td>Roberts</td>\n",
       "      <td>Oahu</td>\n",
       "      <td>Hanauma Bay</td>\n",
       "      <td>19</td>\n",
       "      <td>crust</td>\n",
       "      <td>None</td>\n",
       "      <td>0-10%</td>\n",
       "      <td>5.0</td>\n",
       "      <td>NaN</td>\n",
       "      <td>None</td>\n",
       "      <td>None</td>\n",
       "      <td>21.270820</td>\n",
       "      <td>-157.696189</td>\n",
       "      <td>None</td>\n",
       "      <td>None</td>\n",
       "      <td>POINT (-157.69619 21.27082)</td>\n",
       "    </tr>\n",
       "    <tr>\n",
       "      <th>4</th>\n",
       "      <td>hi_himb_all_coralcard.270</td>\n",
       "      <td>202</td>\n",
       "      <td>2019-10-08 11:50:00</td>\n",
       "      <td>Anke</td>\n",
       "      <td>Roberts</td>\n",
       "      <td>Oahu</td>\n",
       "      <td>Hanauma Bay</td>\n",
       "      <td>7</td>\n",
       "      <td>crust</td>\n",
       "      <td>None</td>\n",
       "      <td>0-10%</td>\n",
       "      <td>4.0</td>\n",
       "      <td>NaN</td>\n",
       "      <td>None</td>\n",
       "      <td>None</td>\n",
       "      <td>21.270843</td>\n",
       "      <td>-157.696272</td>\n",
       "      <td>None</td>\n",
       "      <td>None</td>\n",
       "      <td>POINT (-157.69627 21.27084)</td>\n",
       "    </tr>\n",
       "  </tbody>\n",
       "</table>\n",
       "</div>"
      ],
      "text/plain": [
       "                          id  obs_id                date first_name last_name  \\\n",
       "0  hi_himb_all_coralcard.243     175 2019-10-15 09:42:00    Darrell   Kuamo'o   \n",
       "1  hi_himb_all_coralcard.250     182 2019-10-15 09:42:00    Darrell   Kuamo'o   \n",
       "2  hi_himb_all_coralcard.257     189 2019-10-15 09:52:00    Darrell   Kuamo'o   \n",
       "3  hi_himb_all_coralcard.263     195 2019-10-08 11:50:00       Anke   Roberts   \n",
       "4  hi_himb_all_coralcard.270     202 2019-10-08 11:50:00       Anke   Roberts   \n",
       "\n",
       "   region                 location  color   shape                species  \\\n",
       "0  Hawaii  Richardson Ocean Center      4   mound         Porites lobata   \n",
       "1  Hawaii  Richardson Ocean Center      4   mound         Porites lobata   \n",
       "2  Hawaii  Richardson Ocean Center     22  branch  Pocillopora meandrina   \n",
       "3    Oahu              Hanauma Bay     19   crust                   None   \n",
       "4    Oahu              Hanauma Bay      7   crust                   None   \n",
       "\n",
       "  bleach_pct  depth_ft  h2o_temp_f                         comment photo_url  \\\n",
       "0       None       3.0         NaN    EHAP transect line, coral #1      None   \n",
       "1       None       3.0         NaN    EHAP transect line, coral #8      None   \n",
       "2       None       3.0         NaN  EHAP transect line 4, coral #5      None   \n",
       "3      0-10%       5.0         NaN                            None      None   \n",
       "4      0-10%       4.0         NaN                            None      None   \n",
       "\n",
       "   submit_lat  submit_lon size_bytes   md5                     geometry  \n",
       "0   19.737334 -155.013803       None  None  POINT (-155.01380 19.73733)  \n",
       "1   19.737334 -155.013803       None  None  POINT (-155.01380 19.73733)  \n",
       "2   19.737325 -155.013812       None  None  POINT (-155.01381 19.73732)  \n",
       "3   21.270820 -157.696189       None  None  POINT (-157.69619 21.27082)  \n",
       "4   21.270843 -157.696272       None  None  POINT (-157.69627 21.27084)  "
      ]
     },
     "execution_count": 61,
     "metadata": {},
     "output_type": "execute_result"
    }
   ],
   "source": [
    "# read in the data\n",
    "gdf = gpd.read_file(\"coral.geojson\")\n",
    "\n",
    "# get head of data\n",
    "gdf.head()"
   ]
  },
  {
   "cell_type": "code",
   "execution_count": 62,
   "metadata": {},
   "outputs": [
    {
     "data": {
      "text/html": [
       "<div>\n",
       "<style scoped>\n",
       "    .dataframe tbody tr th:only-of-type {\n",
       "        vertical-align: middle;\n",
       "    }\n",
       "\n",
       "    .dataframe tbody tr th {\n",
       "        vertical-align: top;\n",
       "    }\n",
       "\n",
       "    .dataframe thead th {\n",
       "        text-align: right;\n",
       "    }\n",
       "</style>\n",
       "<table border=\"1\" class=\"dataframe\">\n",
       "  <thead>\n",
       "    <tr style=\"text-align: right;\">\n",
       "      <th></th>\n",
       "      <th>obs_id</th>\n",
       "      <th>color</th>\n",
       "      <th>depth_ft</th>\n",
       "      <th>h2o_temp_f</th>\n",
       "      <th>submit_lat</th>\n",
       "      <th>submit_lon</th>\n",
       "    </tr>\n",
       "  </thead>\n",
       "  <tbody>\n",
       "    <tr>\n",
       "      <th>count</th>\n",
       "      <td>50.000000</td>\n",
       "      <td>50.000000</td>\n",
       "      <td>49.000000</td>\n",
       "      <td>12.0</td>\n",
       "      <td>50.000000</td>\n",
       "      <td>50.000000</td>\n",
       "    </tr>\n",
       "    <tr>\n",
       "      <th>mean</th>\n",
       "      <td>100.000000</td>\n",
       "      <td>17.980000</td>\n",
       "      <td>33.734694</td>\n",
       "      <td>76.0</td>\n",
       "      <td>21.095152</td>\n",
       "      <td>-157.458601</td>\n",
       "    </tr>\n",
       "    <tr>\n",
       "      <th>std</th>\n",
       "      <td>100.582994</td>\n",
       "      <td>8.190313</td>\n",
       "      <td>23.396737</td>\n",
       "      <td>0.0</td>\n",
       "      <td>0.507124</td>\n",
       "      <td>0.927283</td>\n",
       "    </tr>\n",
       "    <tr>\n",
       "      <th>min</th>\n",
       "      <td>3.000000</td>\n",
       "      <td>0.000000</td>\n",
       "      <td>3.000000</td>\n",
       "      <td>76.0</td>\n",
       "      <td>19.737325</td>\n",
       "      <td>-157.863350</td>\n",
       "    </tr>\n",
       "    <tr>\n",
       "      <th>25%</th>\n",
       "      <td>22.500000</td>\n",
       "      <td>12.000000</td>\n",
       "      <td>4.000000</td>\n",
       "      <td>76.0</td>\n",
       "      <td>21.271283</td>\n",
       "      <td>-157.863350</td>\n",
       "    </tr>\n",
       "    <tr>\n",
       "      <th>50%</th>\n",
       "      <td>47.000000</td>\n",
       "      <td>19.000000</td>\n",
       "      <td>45.000000</td>\n",
       "      <td>76.0</td>\n",
       "      <td>21.288420</td>\n",
       "      <td>-157.862940</td>\n",
       "    </tr>\n",
       "    <tr>\n",
       "      <th>75%</th>\n",
       "      <td>193.750000</td>\n",
       "      <td>22.000000</td>\n",
       "      <td>55.000000</td>\n",
       "      <td>76.0</td>\n",
       "      <td>21.289667</td>\n",
       "      <td>-157.696133</td>\n",
       "    </tr>\n",
       "    <tr>\n",
       "      <th>max</th>\n",
       "      <td>451.000000</td>\n",
       "      <td>32.000000</td>\n",
       "      <td>55.000000</td>\n",
       "      <td>76.0</td>\n",
       "      <td>21.289667</td>\n",
       "      <td>-155.013803</td>\n",
       "    </tr>\n",
       "  </tbody>\n",
       "</table>\n",
       "</div>"
      ],
      "text/plain": [
       "           obs_id      color   depth_ft  h2o_temp_f  submit_lat  submit_lon\n",
       "count   50.000000  50.000000  49.000000        12.0   50.000000   50.000000\n",
       "mean   100.000000  17.980000  33.734694        76.0   21.095152 -157.458601\n",
       "std    100.582994   8.190313  23.396737         0.0    0.507124    0.927283\n",
       "min      3.000000   0.000000   3.000000        76.0   19.737325 -157.863350\n",
       "25%     22.500000  12.000000   4.000000        76.0   21.271283 -157.863350\n",
       "50%     47.000000  19.000000  45.000000        76.0   21.288420 -157.862940\n",
       "75%    193.750000  22.000000  55.000000        76.0   21.289667 -157.696133\n",
       "max    451.000000  32.000000  55.000000        76.0   21.289667 -155.013803"
      ]
     },
     "execution_count": 62,
     "metadata": {},
     "output_type": "execute_result"
    }
   ],
   "source": [
    "# describe the data\n",
    "gdf.describe()"
   ]
  },
  {
   "cell_type": "code",
   "execution_count": 63,
   "metadata": {},
   "outputs": [],
   "source": [
    "# drop columns that are not needed\n",
    "gdf = gdf.drop(columns=['id', 'geometry', 'date', 'first_name', 'last_name', 'species', 'h2o_temp_f',\n",
    "                        'comment', 'photo_url', 'submit_lat', 'submit_lon', 'size_bytes', 'md5', 'obs_id'])\n"
   ]
  },
  {
   "cell_type": "code",
   "execution_count": 64,
   "metadata": {},
   "outputs": [
    {
     "data": {
      "text/html": [
       "<div>\n",
       "<style scoped>\n",
       "    .dataframe tbody tr th:only-of-type {\n",
       "        vertical-align: middle;\n",
       "    }\n",
       "\n",
       "    .dataframe tbody tr th {\n",
       "        vertical-align: top;\n",
       "    }\n",
       "\n",
       "    .dataframe thead th {\n",
       "        text-align: right;\n",
       "    }\n",
       "</style>\n",
       "<table border=\"1\" class=\"dataframe\">\n",
       "  <thead>\n",
       "    <tr style=\"text-align: right;\">\n",
       "      <th></th>\n",
       "      <th>region</th>\n",
       "      <th>location</th>\n",
       "      <th>color</th>\n",
       "      <th>shape</th>\n",
       "      <th>bleach_pct</th>\n",
       "      <th>depth_ft</th>\n",
       "    </tr>\n",
       "  </thead>\n",
       "  <tbody>\n",
       "    <tr>\n",
       "      <th>0</th>\n",
       "      <td>Hawaii</td>\n",
       "      <td>Richardson Ocean Center</td>\n",
       "      <td>4</td>\n",
       "      <td>mound</td>\n",
       "      <td>None</td>\n",
       "      <td>3.0</td>\n",
       "    </tr>\n",
       "    <tr>\n",
       "      <th>1</th>\n",
       "      <td>Hawaii</td>\n",
       "      <td>Richardson Ocean Center</td>\n",
       "      <td>4</td>\n",
       "      <td>mound</td>\n",
       "      <td>None</td>\n",
       "      <td>3.0</td>\n",
       "    </tr>\n",
       "    <tr>\n",
       "      <th>2</th>\n",
       "      <td>Hawaii</td>\n",
       "      <td>Richardson Ocean Center</td>\n",
       "      <td>22</td>\n",
       "      <td>branch</td>\n",
       "      <td>None</td>\n",
       "      <td>3.0</td>\n",
       "    </tr>\n",
       "    <tr>\n",
       "      <th>3</th>\n",
       "      <td>Oahu</td>\n",
       "      <td>Hanauma Bay</td>\n",
       "      <td>19</td>\n",
       "      <td>crust</td>\n",
       "      <td>0-10%</td>\n",
       "      <td>5.0</td>\n",
       "    </tr>\n",
       "    <tr>\n",
       "      <th>4</th>\n",
       "      <td>Oahu</td>\n",
       "      <td>Hanauma Bay</td>\n",
       "      <td>7</td>\n",
       "      <td>crust</td>\n",
       "      <td>0-10%</td>\n",
       "      <td>4.0</td>\n",
       "    </tr>\n",
       "  </tbody>\n",
       "</table>\n",
       "</div>"
      ],
      "text/plain": [
       "   region                 location  color   shape bleach_pct  depth_ft\n",
       "0  Hawaii  Richardson Ocean Center      4   mound       None       3.0\n",
       "1  Hawaii  Richardson Ocean Center      4   mound       None       3.0\n",
       "2  Hawaii  Richardson Ocean Center     22  branch       None       3.0\n",
       "3    Oahu              Hanauma Bay     19   crust      0-10%       5.0\n",
       "4    Oahu              Hanauma Bay      7   crust      0-10%       4.0"
      ]
     },
     "execution_count": 64,
     "metadata": {},
     "output_type": "execute_result"
    }
   ],
   "source": [
    "# display the data\n",
    "gdf.head()"
   ]
  },
  {
   "cell_type": "code",
   "execution_count": 65,
   "metadata": {},
   "outputs": [
    {
     "data": {
      "text/plain": [
       "region         0.0\n",
       "location       2.0\n",
       "color          0.0\n",
       "shape          0.0\n",
       "bleach_pct    14.0\n",
       "depth_ft       2.0\n",
       "dtype: float64"
      ]
     },
     "execution_count": 65,
     "metadata": {},
     "output_type": "execute_result"
    }
   ],
   "source": [
    "# check the frequency of null values in each column as percent of column that has missing values\n",
    "gdf.isnull().mean() * 100"
   ]
  },
  {
   "cell_type": "code",
   "execution_count": 66,
   "metadata": {},
   "outputs": [
    {
     "data": {
      "text/plain": [
       "38    3\n",
       "41    1\n",
       "39    1\n",
       "40    1\n",
       "0     1\n",
       "1     1\n",
       "2     1\n",
       "35    0\n",
       "27    0\n",
       "28    0\n",
       "29    0\n",
       "30    0\n",
       "31    0\n",
       "32    0\n",
       "33    0\n",
       "34    0\n",
       "46    0\n",
       "45    0\n",
       "37    0\n",
       "26    0\n",
       "48    0\n",
       "47    0\n",
       "42    0\n",
       "43    0\n",
       "44    0\n",
       "36    0\n",
       "25    0\n",
       "24    0\n",
       "12    0\n",
       "3     0\n",
       "4     0\n",
       "5     0\n",
       "6     0\n",
       "7     0\n",
       "8     0\n",
       "9     0\n",
       "10    0\n",
       "11    0\n",
       "13    0\n",
       "23    0\n",
       "14    0\n",
       "15    0\n",
       "16    0\n",
       "17    0\n",
       "18    0\n",
       "19    0\n",
       "20    0\n",
       "21    0\n",
       "22    0\n",
       "49    0\n",
       "dtype: int64"
      ]
     },
     "execution_count": 66,
     "metadata": {},
     "output_type": "execute_result"
    }
   ],
   "source": [
    "# check frequency of missing values on a row by row basis\n",
    "gdf.isnull().sum(axis=1).sort_values(ascending=False)"
   ]
  },
  {
   "cell_type": "code",
   "execution_count": 67,
   "metadata": {},
   "outputs": [],
   "source": [
    "# drop rows where bleach_pct is missing\n",
    "gdf = gdf.dropna(subset=['bleach_pct']).reset_index(drop=True)\n",
    "\n",
    "# drop region column\n",
    "gdf = gdf.drop(columns=['region'])"
   ]
  },
  {
   "cell_type": "code",
   "execution_count": 68,
   "metadata": {},
   "outputs": [
    {
     "data": {
      "text/html": [
       "<div>\n",
       "<style scoped>\n",
       "    .dataframe tbody tr th:only-of-type {\n",
       "        vertical-align: middle;\n",
       "    }\n",
       "\n",
       "    .dataframe tbody tr th {\n",
       "        vertical-align: top;\n",
       "    }\n",
       "\n",
       "    .dataframe thead th {\n",
       "        text-align: right;\n",
       "    }\n",
       "</style>\n",
       "<table border=\"1\" class=\"dataframe\">\n",
       "  <thead>\n",
       "    <tr style=\"text-align: right;\">\n",
       "      <th></th>\n",
       "      <th>location</th>\n",
       "      <th>color</th>\n",
       "      <th>shape</th>\n",
       "      <th>bleach_pct</th>\n",
       "      <th>depth_ft</th>\n",
       "    </tr>\n",
       "  </thead>\n",
       "  <tbody>\n",
       "    <tr>\n",
       "      <th>0</th>\n",
       "      <td>Hanauma Bay</td>\n",
       "      <td>19</td>\n",
       "      <td>crust</td>\n",
       "      <td>0-10%</td>\n",
       "      <td>5.0</td>\n",
       "    </tr>\n",
       "    <tr>\n",
       "      <th>1</th>\n",
       "      <td>Hanauma Bay</td>\n",
       "      <td>7</td>\n",
       "      <td>crust</td>\n",
       "      <td>0-10%</td>\n",
       "      <td>4.0</td>\n",
       "    </tr>\n",
       "    <tr>\n",
       "      <th>2</th>\n",
       "      <td>Hanauma Bay</td>\n",
       "      <td>19</td>\n",
       "      <td>branch</td>\n",
       "      <td>0-10%</td>\n",
       "      <td>4.0</td>\n",
       "    </tr>\n",
       "    <tr>\n",
       "      <th>3</th>\n",
       "      <td>Horseshoe Reef</td>\n",
       "      <td>22</td>\n",
       "      <td>mound</td>\n",
       "      <td>25-50%</td>\n",
       "      <td>45.0</td>\n",
       "    </tr>\n",
       "    <tr>\n",
       "      <th>4</th>\n",
       "      <td>Horseshoe Reef</td>\n",
       "      <td>15</td>\n",
       "      <td>mound</td>\n",
       "      <td>25-50%</td>\n",
       "      <td>45.0</td>\n",
       "    </tr>\n",
       "  </tbody>\n",
       "</table>\n",
       "</div>"
      ],
      "text/plain": [
       "         location  color   shape bleach_pct  depth_ft\n",
       "0     Hanauma Bay     19   crust      0-10%       5.0\n",
       "1     Hanauma Bay      7   crust      0-10%       4.0\n",
       "2     Hanauma Bay     19  branch      0-10%       4.0\n",
       "3  Horseshoe Reef     22   mound     25-50%      45.0\n",
       "4  Horseshoe Reef     15   mound     25-50%      45.0"
      ]
     },
     "execution_count": 68,
     "metadata": {},
     "output_type": "execute_result"
    }
   ],
   "source": [
    "# display the data\n",
    "gdf.head()"
   ]
  },
  {
   "cell_type": "code",
   "execution_count": 69,
   "metadata": {},
   "outputs": [
    {
     "data": {
      "text/plain": [
       "0-10%     31\n",
       "25-50%    12\n",
       "Name: bleach_pct, dtype: int64"
      ]
     },
     "execution_count": 69,
     "metadata": {},
     "output_type": "execute_result"
    }
   ],
   "source": [
    "# check values in bleack_pct column\n",
    "gdf['bleach_pct'].value_counts(dropna=False)"
   ]
  },
  {
   "cell_type": "code",
   "execution_count": 70,
   "metadata": {},
   "outputs": [
    {
     "data": {
      "text/plain": [
       "CategoricalDtype(categories=['0-10%', '25-50%'], ordered=True)"
      ]
     },
     "execution_count": 70,
     "metadata": {},
     "output_type": "execute_result"
    }
   ],
   "source": [
    "# set categorical variable\n",
    "cat_type = CategoricalDtype(categories=['0-10%', '25-50%'], ordered=True)\n",
    "gdf[\"bleach_pct\"] = gdf[\"bleach_pct\"].astype(cat_type)\n",
    "\n",
    "gdf['bleach_pct'].dtype"
   ]
  },
  {
   "cell_type": "code",
   "execution_count": 71,
   "metadata": {},
   "outputs": [
    {
     "data": {
      "image/png": "[encoded data removed]",
      "text/plain": [
       "<Figure size 700x700 with 1 Axes>"
      ]
     },
     "metadata": {},
     "output_type": "display_data"
    }
   ],
   "source": [
    "# plot the color\n",
    "plt.figure(figsize=[7, 7])\n",
    "hist = sns.histplot(data=gdf, x='color', hue='bleach_pct')\n"
   ]
  },
  {
   "cell_type": "markdown",
   "metadata": {},
   "source": [
    "#  Ordinal Regression Model"
   ]
  },
  {
   "cell_type": "code",
   "execution_count": 72,
   "metadata": {},
   "outputs": [],
   "source": [
    "# make dummy variables for location and shape\n",
    "gdf_cat = pd.get_dummies(gdf, columns=['location', 'shape'], drop_first=True)"
   ]
  },
  {
   "cell_type": "code",
   "execution_count": 73,
   "metadata": {},
   "outputs": [
    {
     "data": {
      "text/html": [
       "<div>\n",
       "<style scoped>\n",
       "    .dataframe tbody tr th:only-of-type {\n",
       "        vertical-align: middle;\n",
       "    }\n",
       "\n",
       "    .dataframe tbody tr th {\n",
       "        vertical-align: top;\n",
       "    }\n",
       "\n",
       "    .dataframe thead th {\n",
       "        text-align: right;\n",
       "    }\n",
       "</style>\n",
       "<table border=\"1\" class=\"dataframe\">\n",
       "  <thead>\n",
       "    <tr style=\"text-align: right;\">\n",
       "      <th></th>\n",
       "      <th>location</th>\n",
       "      <th>color</th>\n",
       "      <th>shape</th>\n",
       "      <th>bleach_pct</th>\n",
       "      <th>depth_ft</th>\n",
       "    </tr>\n",
       "  </thead>\n",
       "  <tbody>\n",
       "    <tr>\n",
       "      <th>0</th>\n",
       "      <td>Hanauma Bay</td>\n",
       "      <td>19</td>\n",
       "      <td>crust</td>\n",
       "      <td>0-10%</td>\n",
       "      <td>5.0</td>\n",
       "    </tr>\n",
       "    <tr>\n",
       "      <th>1</th>\n",
       "      <td>Hanauma Bay</td>\n",
       "      <td>7</td>\n",
       "      <td>crust</td>\n",
       "      <td>0-10%</td>\n",
       "      <td>4.0</td>\n",
       "    </tr>\n",
       "    <tr>\n",
       "      <th>2</th>\n",
       "      <td>Hanauma Bay</td>\n",
       "      <td>19</td>\n",
       "      <td>branch</td>\n",
       "      <td>0-10%</td>\n",
       "      <td>4.0</td>\n",
       "    </tr>\n",
       "    <tr>\n",
       "      <th>3</th>\n",
       "      <td>Horseshoe Reef</td>\n",
       "      <td>22</td>\n",
       "      <td>mound</td>\n",
       "      <td>25-50%</td>\n",
       "      <td>45.0</td>\n",
       "    </tr>\n",
       "    <tr>\n",
       "      <th>4</th>\n",
       "      <td>Horseshoe Reef</td>\n",
       "      <td>15</td>\n",
       "      <td>mound</td>\n",
       "      <td>25-50%</td>\n",
       "      <td>45.0</td>\n",
       "    </tr>\n",
       "  </tbody>\n",
       "</table>\n",
       "</div>"
      ],
      "text/plain": [
       "         location  color   shape bleach_pct  depth_ft\n",
       "0     Hanauma Bay     19   crust      0-10%       5.0\n",
       "1     Hanauma Bay      7   crust      0-10%       4.0\n",
       "2     Hanauma Bay     19  branch      0-10%       4.0\n",
       "3  Horseshoe Reef     22   mound     25-50%      45.0\n",
       "4  Horseshoe Reef     15   mound     25-50%      45.0"
      ]
     },
     "execution_count": 73,
     "metadata": {},
     "output_type": "execute_result"
    }
   ],
   "source": [
    "gdf.head()"
   ]
  },
  {
   "cell_type": "code",
   "execution_count": 74,
   "metadata": {},
   "outputs": [],
   "source": [
    "# split X and y and remove categorical features\n",
    "X = gdf.drop(columns=['bleach_pct', 'location', 'shape'])\n",
    "y = gdf['bleach_pct']"
   ]
  },
  {
   "cell_type": "code",
   "execution_count": 75,
   "metadata": {},
   "outputs": [],
   "source": [
    "# Ordinal Regression Probit Model\n",
    "mod_prob = OrderedModel(y,\n",
    "                        X,\n",
    "                        distr='probit')"
   ]
  },
  {
   "cell_type": "code",
   "execution_count": 76,
   "metadata": {},
   "outputs": [
    {
     "name": "stdout",
     "output_type": "stream",
     "text": [
      "Optimization terminated successfully.\n",
      "         Current function value: 0.557133\n",
      "         Iterations: 9\n",
      "         Function evaluations: 15\n",
      "         Gradient evaluations: 15\n"
     ]
    },
    {
     "data": {
      "text/html": [
       "<table class=\"simpletable\">\n",
       "<caption>OrderedModel Results</caption>\n",
       "<tr>\n",
       "  <th>Dep. Variable:</th>        <td>bleach_pct</td>     <th>  Log-Likelihood:    </th> <td> -23.957</td>\n",
       "</tr>\n",
       "<tr>\n",
       "  <th>Model:</th>               <td>OrderedModel</td>    <th>  AIC:               </th> <td>   53.91</td>\n",
       "</tr>\n",
       "<tr>\n",
       "  <th>Method:</th>           <td>Maximum Likelihood</td> <th>  BIC:               </th> <td>   59.20</td>\n",
       "</tr>\n",
       "<tr>\n",
       "  <th>Date:</th>              <td>Sat, 01 Oct 2022</td>  <th>                     </th>     <td> </td>   \n",
       "</tr>\n",
       "<tr>\n",
       "  <th>Time:</th>                  <td>18:32:58</td>      <th>                     </th>     <td> </td>   \n",
       "</tr>\n",
       "<tr>\n",
       "  <th>No. Observations:</th>       <td>    43</td>       <th>                     </th>     <td> </td>   \n",
       "</tr>\n",
       "<tr>\n",
       "  <th>Df Residuals:</th>           <td>    40</td>       <th>                     </th>     <td> </td>   \n",
       "</tr>\n",
       "<tr>\n",
       "  <th>Df Model:</th>               <td>     3</td>       <th>                     </th>     <td> </td>   \n",
       "</tr>\n",
       "</table>\n",
       "<table class=\"simpletable\">\n",
       "<tr>\n",
       "        <td></td>          <th>coef</th>     <th>std err</th>      <th>z</th>      <th>P>|z|</th>  <th>[0.025</th>    <th>0.975]</th>  \n",
       "</tr>\n",
       "<tr>\n",
       "  <th>color</th>        <td>    0.0257</td> <td>    0.028</td> <td>    0.912</td> <td> 0.362</td> <td>   -0.030</td> <td>    0.081</td>\n",
       "</tr>\n",
       "<tr>\n",
       "  <th>depth_ft</th>     <td>    0.0134</td> <td>    0.012</td> <td>    1.101</td> <td> 0.271</td> <td>   -0.010</td> <td>    0.037</td>\n",
       "</tr>\n",
       "<tr>\n",
       "  <th>0-10%/25-50%</th> <td>    1.6278</td> <td>    0.695</td> <td>    2.341</td> <td> 0.019</td> <td>    0.265</td> <td>    2.990</td>\n",
       "</tr>\n",
       "</table>"
      ],
      "text/plain": [
       "<class 'statsmodels.iolib.summary.Summary'>\n",
       "\"\"\"\n",
       "                             OrderedModel Results                             \n",
       "==============================================================================\n",
       "Dep. Variable:             bleach_pct   Log-Likelihood:                -23.957\n",
       "Model:                   OrderedModel   AIC:                             53.91\n",
       "Method:            Maximum Likelihood   BIC:                             59.20\n",
       "Date:                Sat, 01 Oct 2022                                         \n",
       "Time:                        18:32:58                                         \n",
       "No. Observations:                  43                                         \n",
       "Df Residuals:                      40                                         \n",
       "Df Model:                           3                                         \n",
       "================================================================================\n",
       "                   coef    std err          z      P>|z|      [0.025      0.975]\n",
       "--------------------------------------------------------------------------------\n",
       "color            0.0257      0.028      0.912      0.362      -0.030       0.081\n",
       "depth_ft         0.0134      0.012      1.101      0.271      -0.010       0.037\n",
       "0-10%/25-50%     1.6278      0.695      2.341      0.019       0.265       2.990\n",
       "================================================================================\n",
       "\"\"\""
      ]
     },
     "execution_count": 76,
     "metadata": {},
     "output_type": "execute_result"
    }
   ],
   "source": [
    "# fit the model using bfgs\n",
    "res_prob = mod_prob.fit(method='bfgs')\n",
    "res_prob.summary()"
   ]
  },
  {
   "cell_type": "code",
   "execution_count": 77,
   "metadata": {},
   "outputs": [],
   "source": [
    "# Ordinal Regression Logit Model\n",
    "mod_prob = OrderedModel(gdf['bleach_pct'],\n",
    "                        gdf[['color', 'depth_ft']],\n",
    "                        distr='logit')"
   ]
  },
  {
   "cell_type": "code",
   "execution_count": 78,
   "metadata": {},
   "outputs": [
    {
     "name": "stdout",
     "output_type": "stream",
     "text": [
      "Optimization terminated successfully.\n",
      "         Current function value: 0.560202\n",
      "         Iterations: 9\n",
      "         Function evaluations: 15\n",
      "         Gradient evaluations: 15\n"
     ]
    },
    {
     "data": {
      "text/html": [
       "<table class=\"simpletable\">\n",
       "<caption>OrderedModel Results</caption>\n",
       "<tr>\n",
       "  <th>Dep. Variable:</th>        <td>bleach_pct</td>     <th>  Log-Likelihood:    </th> <td> -24.089</td>\n",
       "</tr>\n",
       "<tr>\n",
       "  <th>Model:</th>               <td>OrderedModel</td>    <th>  AIC:               </th> <td>   54.18</td>\n",
       "</tr>\n",
       "<tr>\n",
       "  <th>Method:</th>           <td>Maximum Likelihood</td> <th>  BIC:               </th> <td>   59.46</td>\n",
       "</tr>\n",
       "<tr>\n",
       "  <th>Date:</th>              <td>Sat, 01 Oct 2022</td>  <th>                     </th>     <td> </td>   \n",
       "</tr>\n",
       "<tr>\n",
       "  <th>Time:</th>                  <td>18:32:58</td>      <th>                     </th>     <td> </td>   \n",
       "</tr>\n",
       "<tr>\n",
       "  <th>No. Observations:</th>       <td>    43</td>       <th>                     </th>     <td> </td>   \n",
       "</tr>\n",
       "<tr>\n",
       "  <th>Df Residuals:</th>           <td>    40</td>       <th>                     </th>     <td> </td>   \n",
       "</tr>\n",
       "<tr>\n",
       "  <th>Df Model:</th>               <td>     3</td>       <th>                     </th>     <td> </td>   \n",
       "</tr>\n",
       "</table>\n",
       "<table class=\"simpletable\">\n",
       "<tr>\n",
       "        <td></td>          <th>coef</th>     <th>std err</th>      <th>z</th>      <th>P>|z|</th>  <th>[0.025</th>    <th>0.975]</th>  \n",
       "</tr>\n",
       "<tr>\n",
       "  <th>color</th>        <td>    0.0407</td> <td>    0.046</td> <td>    0.887</td> <td> 0.375</td> <td>   -0.049</td> <td>    0.131</td>\n",
       "</tr>\n",
       "<tr>\n",
       "  <th>depth_ft</th>     <td>    0.0202</td> <td>    0.020</td> <td>    1.021</td> <td> 0.307</td> <td>   -0.019</td> <td>    0.059</td>\n",
       "</tr>\n",
       "<tr>\n",
       "  <th>0-10%/25-50%</th> <td>    2.5516</td> <td>    1.147</td> <td>    2.225</td> <td> 0.026</td> <td>    0.304</td> <td>    4.799</td>\n",
       "</tr>\n",
       "</table>"
      ],
      "text/plain": [
       "<class 'statsmodels.iolib.summary.Summary'>\n",
       "\"\"\"\n",
       "                             OrderedModel Results                             \n",
       "==============================================================================\n",
       "Dep. Variable:             bleach_pct   Log-Likelihood:                -24.089\n",
       "Model:                   OrderedModel   AIC:                             54.18\n",
       "Method:            Maximum Likelihood   BIC:                             59.46\n",
       "Date:                Sat, 01 Oct 2022                                         \n",
       "Time:                        18:32:58                                         \n",
       "No. Observations:                  43                                         \n",
       "Df Residuals:                      40                                         \n",
       "Df Model:                           3                                         \n",
       "================================================================================\n",
       "                   coef    std err          z      P>|z|      [0.025      0.975]\n",
       "--------------------------------------------------------------------------------\n",
       "color            0.0407      0.046      0.887      0.375      -0.049       0.131\n",
       "depth_ft         0.0202      0.020      1.021      0.307      -0.019       0.059\n",
       "0-10%/25-50%     2.5516      1.147      2.225      0.026       0.304       4.799\n",
       "================================================================================\n",
       "\"\"\""
      ]
     },
     "execution_count": 78,
     "metadata": {},
     "output_type": "execute_result"
    }
   ],
   "source": [
    "# fit the model using bfgs\n",
    "res_log = mod_prob.fit(method='bfgs')\n",
    "res_log.summary()"
   ]
  },
  {
   "cell_type": "code",
   "execution_count": 79,
   "metadata": {},
   "outputs": [
    {
     "name": "stderr",
     "output_type": "stream",
     "text": [
      "/Users/sree/anaconda3/lib/python3.9/site-packages/statsmodels/miscmodels/ordinal_model.py:419: FutureWarning: Support for multi-dimensional indexing (e.g. `obj[:, None]`) is deprecated and will be removed in a future version.  Convert to a numpy array before indexing instead.\n",
      "  xb = xb[:, None]\n"
     ]
    },
    {
     "data": {
      "text/plain": [
       "array([[0.84265857, 0.15734143],\n",
       "       [0.89900354, 0.10099646],\n",
       "       [0.84531887, 0.15468113],\n",
       "       [0.67874347, 0.32125653],\n",
       "       [0.73741664, 0.26258336],\n",
       "       [0.58454483, 0.41545517],\n",
       "       [0.68754305, 0.31245695],\n",
       "       [0.60414534, 0.39585466],\n",
       "       [0.67874347, 0.32125653],\n",
       "       [0.70473876, 0.29526124],\n",
       "       [0.69620948, 0.30379052],\n",
       "       [0.55495791, 0.44504209],\n",
       "       [0.65186972, 0.34813028],\n",
       "       [0.56497497, 0.43502503],\n",
       "       [0.72161839, 0.27838161],\n",
       "       [0.72161839, 0.27838161],\n",
       "       [0.78891433, 0.21108567],\n",
       "       [0.53479729, 0.46520271],\n",
       "       [0.55495791, 0.44504209],\n",
       "       [0.80850993, 0.19149007],\n",
       "       [0.72161839, 0.27838161],\n",
       "       [0.57493926, 0.42506074],\n",
       "       [0.69646914, 0.30353086],\n",
       "       [0.57493926, 0.42506074],\n",
       "       [0.59467872, 0.40532128],\n",
       "       [0.55495791, 0.44504209],\n",
       "       [0.6878068 , 0.3121932 ],\n",
       "       [0.65186972, 0.34813028],\n",
       "       [0.69646914, 0.30353086],\n",
       "       [0.72971124, 0.27028876],\n",
       "       [0.8606035 , 0.1393965 ],\n",
       "       [0.83438639, 0.16561361],\n",
       "       [0.85565451, 0.14434549],\n",
       "       [0.83438639, 0.16561361],\n",
       "       [0.909551  , 0.090449  ],\n",
       "       [0.84265857, 0.15734143],\n",
       "       [0.89900354, 0.10099646],\n",
       "       [0.89525194, 0.10474806],\n",
       "       [0.8606035 , 0.1393965 ],\n",
       "       [0.72946897, 0.27053103],\n",
       "       [0.66981509, 0.33018491],\n",
       "       [0.7676702 , 0.2323298 ],\n",
       "       [0.69620948, 0.30379052]])"
      ]
     },
     "execution_count": 79,
     "metadata": {},
     "output_type": "execute_result"
    }
   ],
   "source": [
    "# make predictions\n",
    "predicted = res_log.model.predict(res_log.params, exog=X)\n",
    "predicted"
   ]
  },
  {
   "cell_type": "code",
   "execution_count": 80,
   "metadata": {},
   "outputs": [
    {
     "name": "stdout",
     "output_type": "stream",
     "text": [
      "Fraction of correct choice predictions\n",
      "0.7209302325581395\n"
     ]
    }
   ],
   "source": [
    "# calculate accuracy\n",
    "pred_choice = predicted.argmax(1)\n",
    "print('Fraction of correct choice predictions')\n",
    "print((np.asarray(gdf['bleach_pct'].values.codes) == pred_choice).mean())"
   ]
  },
  {
   "cell_type": "markdown",
   "metadata": {},
   "source": [
    "# Logistic Regression Model"
   ]
  },
  {
   "cell_type": "code",
   "execution_count": 81,
   "metadata": {},
   "outputs": [],
   "source": [
    "# make dummy variable for bleach_pct\n",
    "gdf['bleach_pct'] = gdf['bleach_pct'].cat.codes"
   ]
  },
  {
   "cell_type": "code",
   "execution_count": 82,
   "metadata": {},
   "outputs": [],
   "source": [
    "# split X and y, while keeping categorical features\n",
    "X = gdf.drop(columns=['bleach_pct', 'location', 'shape'])\n",
    "y = gdf['bleach_pct']"
   ]
  },
  {
   "cell_type": "code",
   "execution_count": 83,
   "metadata": {},
   "outputs": [],
   "source": [
    "# split training and testing data\n",
    "X_train, X_test, y_train, y_test = train_test_split(X,\n",
    "                                                    y,\n",
    "                                                    test_size=0.6,\n",
    "                                                    random_state=7,\n",
    "                                                    stratify=y\n",
    "                                                    )"
   ]
  },
  {
   "cell_type": "code",
   "execution_count": 84,
   "metadata": {},
   "outputs": [],
   "source": [
    "# create ColumnTransformer that runs various scalers on color and depth_ft\n",
    "column_transformer = ColumnTransformer(\n",
    "    [('scaler', StandardScaler(), ['color', 'depth_ft']),\n",
    "     ('robust', RobustScaler(), ['color', 'depth_ft']),\n",
    "     ('minmax', MinMaxScaler(), ['color', 'depth_ft'])],\n",
    "    remainder='passthrough'\n",
    ")\n"
   ]
  },
  {
   "cell_type": "code",
   "execution_count": 85,
   "metadata": {},
   "outputs": [
    {
     "name": "stdout",
     "output_type": "stream",
     "text": [
      "Optimization terminated successfully.\n",
      "         Current function value: 0.634480\n",
      "         Iterations 4\n",
      "                        Results: Logit\n",
      "==============================================================\n",
      "Model:              Logit            Pseudo R-squared: -0.072 \n",
      "Dependent Variable: bleach_pct       AIC:              58.5653\n",
      "Date:               2022-10-01 18:32 BIC:              62.0877\n",
      "No. Observations:   43               Log-Likelihood:   -27.283\n",
      "Df Model:           1                LL-Null:          -25.459\n",
      "Df Residuals:       41               LLR p-value:      1.0000 \n",
      "Converged:          1.0000           Scale:            1.0000 \n",
      "No. Iterations:     4.0000                                    \n",
      "---------------------------------------------------------------\n",
      "             Coef.   Std.Err.     z     P>|z|    [0.025  0.975]\n",
      "---------------------------------------------------------------\n",
      "color       -0.0334    0.0308  -1.0844  0.2782  -0.0937  0.0269\n",
      "depth_ft    -0.0012    0.0139  -0.0858  0.9316  -0.0284  0.0261\n",
      "==============================================================\n",
      "\n"
     ]
    }
   ],
   "source": [
    "# logistic regression implementation\n",
    "logit_model = sm.Logit(y, X)\n",
    "result = logit_model.fit()\n",
    "print(result.summary2())"
   ]
  },
  {
   "cell_type": "code",
   "execution_count": 86,
   "metadata": {},
   "outputs": [
    {
     "name": "stdout",
     "output_type": "stream",
     "text": [
      "Fitting 10 folds for each of 40 candidates, totalling 400 fits\n"
     ]
    },
    {
     "name": "stderr",
     "output_type": "stream",
     "text": [
      "/Users/sree/.local/lib/python3.9/site-packages/sklearn/model_selection/_split.py:684: UserWarning: The least populated class in y has only 5 members, which is less than n_splits=10.\n",
      "  warnings.warn(\n"
     ]
    },
    {
     "name": "stdout",
     "output_type": "stream",
     "text": [
      "Best params: {'log__C': 0.1, 'log__solver': 'newton-cg'}\n",
      "Best estimator: Pipeline(steps=[('preprocessor',\n",
      "                 ColumnTransformer(remainder='passthrough',\n",
      "                                   transformers=[('scaler', StandardScaler(),\n",
      "                                                  ['color', 'depth_ft']),\n",
      "                                                 ('robust', RobustScaler(),\n",
      "                                                  ['color', 'depth_ft']),\n",
      "                                                 ('minmax', MinMaxScaler(),\n",
      "                                                  ['color', 'depth_ft'])])),\n",
      "                ('log',\n",
      "                 LogisticRegression(C=0.1, random_state=15,\n",
      "                                    solver='newton-cg'))])\n",
      "Score: 0.7307692307692307\n"
     ]
    }
   ],
   "source": [
    "# create pipeline with logistic regression\n",
    "pipeline = Pipeline([\n",
    "    ('preprocessor', column_transformer),\n",
    "    ('log', LogisticRegression(random_state=15))\n",
    "])\n",
    "\n",
    "# create grid of C values and various solvers\n",
    "param_grid = {\n",
    "    'log__C': [0.1, 1, 2, 10, 100, 1000, 10000, 100000],\n",
    "    'log__solver': ['newton-cg', 'lbfgs', 'liblinear', 'sag', 'saga']\n",
    "}\n",
    "\n",
    "# grid search over the parameters\n",
    "grid = GridSearchCV(pipeline, param_grid=param_grid, cv=10, verbose=1)\n",
    "grid.fit(X_train, y_train)\n",
    "\n",
    "# print the results\n",
    "print(\"Best params:\", grid.best_params_)\n",
    "print(\"Best estimator:\", grid.best_estimator_)\n",
    "print(\"Score:\", grid.best_estimator_.score(X_test, y_test))"
   ]
  },
  {
   "cell_type": "code",
   "execution_count": 87,
   "metadata": {},
   "outputs": [
    {
     "name": "stdout",
     "output_type": "stream",
     "text": [
      "              precision    recall  f1-score   support\n",
      "\n",
      "           0       0.73      1.00      0.84        19\n",
      "           1       0.00      0.00      0.00         7\n",
      "\n",
      "    accuracy                           0.73        26\n",
      "   macro avg       0.37      0.50      0.42        26\n",
      "weighted avg       0.53      0.73      0.62        26\n",
      "\n"
     ]
    }
   ],
   "source": [
    "# use the best estimator for logistic regression, predict, and get classification report\n",
    "logreg = LogisticRegression(C=grid.best_params_['log__C'],\n",
    "                            solver=grid.best_params_['log__solver'])\n",
    "logreg.fit(X_train, y_train)\n",
    "y_pred = logreg.predict(X_test)\n",
    "print(classification_report(y_test, y_pred))"
   ]
  },
  {
   "cell_type": "code",
   "execution_count": 88,
   "metadata": {},
   "outputs": [
    {
     "data": {
      "text/plain": [
       "Text(58.11555902777779, 0.5, 'Mean Test Score')"
      ]
     },
     "execution_count": 88,
     "metadata": {},
     "output_type": "execute_result"
    },
    {
     "data": {
      "image/png": "[encoded data removed]",
      "text/plain": [
       "<Figure size 653.847x500 with 1 Axes>"
      ]
     },
     "metadata": {},
     "output_type": "display_data"
    }
   ],
   "source": [
    "# put grid search results into a dataframe\n",
    "grid_df = pd.DataFrame.from_dict(grid.cv_results_, orient='columns')\n",
    "\n",
    "# plot grid search results dataframe using relplot\n",
    "sns.relplot(x='param_log__C', y='mean_test_score',\n",
    "            hue='param_log__solver', data=grid_df)\n",
    "plt.title('Grid Search Results for Logistic Regression')\n",
    "plt.xlabel('C Value')\n",
    "plt.ylabel('Mean Test Score')"
   ]
  },
  {
   "cell_type": "code",
   "execution_count": 89,
   "metadata": {},
   "outputs": [
    {
     "name": "stdout",
     "output_type": "stream",
     "text": [
      "              precision    recall  f1-score   support\n",
      "\n",
      "           0       0.73      1.00      0.84        19\n",
      "           1       0.00      0.00      0.00         7\n",
      "\n",
      "    accuracy                           0.73        26\n",
      "   macro avg       0.37      0.50      0.42        26\n",
      "weighted avg       0.53      0.73      0.62        26\n",
      "\n"
     ]
    }
   ],
   "source": [
    "# logitstic regression with C value of 100000 and liblinear solver\n",
    "logreg = LogisticRegression(C=100000, solver='liblinear')\n",
    "logreg.fit(X_train, y_train)\n",
    "y_pred = logreg.predict(X_test)\n",
    "print(classification_report(y_test, y_pred))"
   ]
  },
  {
   "cell_type": "markdown",
   "metadata": {},
   "source": [
    "# SVM"
   ]
  },
  {
   "cell_type": "code",
   "execution_count": 90,
   "metadata": {},
   "outputs": [
    {
     "name": "stdout",
     "output_type": "stream",
     "text": [
      "Fitting 5 folds for each of 12 candidates, totalling 60 fits\n",
      "Best params: {'svm__C': 10, 'svm__kernel': 'rbf'}\n",
      "Best estimator: Pipeline(steps=[('preprocessor',\n",
      "                 ColumnTransformer(remainder='passthrough',\n",
      "                                   transformers=[('scaler', StandardScaler(),\n",
      "                                                  ['color', 'depth_ft']),\n",
      "                                                 ('robust', RobustScaler(),\n",
      "                                                  ['color', 'depth_ft']),\n",
      "                                                 ('minmax', MinMaxScaler(),\n",
      "                                                  ['color', 'depth_ft'])])),\n",
      "                ('svm', SVC(C=10, random_state=15))])\n",
      "Score: 0.9615384615384616\n"
     ]
    }
   ],
   "source": [
    "# create pipeline with preprocessor and SVM\n",
    "pipeline = Pipeline([\n",
    "    ('preprocessor', column_transformer),\n",
    "    ('svm', SVC(random_state=15))\n",
    "])\n",
    "\n",
    "# create grid of C values and various kernels\n",
    "param_grid = {\n",
    "    'svm__C': [10, 100, 1000],\n",
    "    'svm__kernel': ['linear', 'poly', 'rbf', 'sigmoid']\n",
    "}\n",
    "\n",
    "# grid search over the parameters\n",
    "grid = GridSearchCV(pipeline, param_grid=param_grid, cv=5, verbose=1)\n",
    "grid.fit(X_train, y_train)\n",
    "\n",
    "# print the scores for all the models\n",
    "print(\"Best params:\", grid.best_params_)\n",
    "print(\"Best estimator:\", grid.best_estimator_)\n",
    "print(\"Score:\", grid.best_estimator_.score(X_test, y_test))"
   ]
  },
  {
   "cell_type": "code",
   "execution_count": 91,
   "metadata": {},
   "outputs": [
    {
     "name": "stdout",
     "output_type": "stream",
     "text": [
      "              precision    recall  f1-score   support\n",
      "\n",
      "           0       1.00      1.00      1.00        19\n",
      "           1       1.00      1.00      1.00         7\n",
      "\n",
      "    accuracy                           1.00        26\n",
      "   macro avg       1.00      1.00      1.00        26\n",
      "weighted avg       1.00      1.00      1.00        26\n",
      "\n"
     ]
    }
   ],
   "source": [
    "# use the best estimator for SVM, predict, and get confusion matrix\n",
    "svm = SVC(C=grid.best_params_['svm__C'],\n",
    "            kernel=grid.best_params_['svm__kernel'])\n",
    "svm.fit(X_train, y_train)\n",
    "y_pred = svm.predict(X_test)\n",
    "print(classification_report(y_test, y_pred))\n"
   ]
  },
  {
   "cell_type": "markdown",
   "metadata": {},
   "source": [
    "# Gradient Boosting Classifier"
   ]
  },
  {
   "cell_type": "code",
   "execution_count": 92,
   "metadata": {},
   "outputs": [
    {
     "name": "stdout",
     "output_type": "stream",
     "text": [
      "Fitting 5 folds for each of 36 candidates, totalling 180 fits\n",
      "Best params: {'gbc__learning_rate': 0.1, 'gbc__max_depth': 1, 'gbc__n_estimators': 100}\n",
      "Best estimator: Pipeline(steps=[('preprocessor',\n",
      "                 ColumnTransformer(remainder='passthrough',\n",
      "                                   transformers=[('scaler', StandardScaler(),\n",
      "                                                  ['color', 'depth_ft']),\n",
      "                                                 ('robust', RobustScaler(),\n",
      "                                                  ['color', 'depth_ft']),\n",
      "                                                 ('minmax', MinMaxScaler(),\n",
      "                                                  ['color', 'depth_ft'])])),\n",
      "                ('gbc',\n",
      "                 GradientBoostingClassifier(max_depth=1, random_state=15))])\n",
      "Score: 1.0\n"
     ]
    }
   ],
   "source": [
    "# create pipeline with preprocessor and gradient boosting classifier\n",
    "pipeline = Pipeline([\n",
    "    ('preprocessor', column_transformer),\n",
    "    ('gbc', GradientBoostingClassifier(random_state=15))\n",
    "])\n",
    "\n",
    "# create grid of learning rate, n_estimators, and max_depth\n",
    "param_grid = {\n",
    "    'gbc__learning_rate': [0.1, 0.5, 1],\n",
    "    'gbc__n_estimators': [100, 200, 300],\n",
    "    'gbc__max_depth': [1, 3, 5, 7]\n",
    "}\n",
    "\n",
    "# grid search over the parameters\n",
    "grid = GridSearchCV(pipeline, param_grid=param_grid, cv=5, verbose=1)\n",
    "grid.fit(X_train, y_train)\n",
    "\n",
    "# print the results\n",
    "print(\"Best params:\", grid.best_params_)\n",
    "print(\"Best estimator:\", grid.best_estimator_)\n",
    "print(\"Score:\", grid.best_estimator_.score(X_test, y_test))\n"
   ]
  },
  {
   "cell_type": "code",
   "execution_count": 93,
   "metadata": {},
   "outputs": [
    {
     "name": "stdout",
     "output_type": "stream",
     "text": [
      "              precision    recall  f1-score   support\n",
      "\n",
      "           0       1.00      1.00      1.00        19\n",
      "           1       1.00      1.00      1.00         7\n",
      "\n",
      "    accuracy                           1.00        26\n",
      "   macro avg       1.00      1.00      1.00        26\n",
      "weighted avg       1.00      1.00      1.00        26\n",
      "\n"
     ]
    },
    {
     "data": {
      "text/plain": [
       "Text(65.06572222222223, 0.5, 'Mean Test Score')"
      ]
     },
     "execution_count": 93,
     "metadata": {},
     "output_type": "execute_result"
    },
    {
     "data": {
      "image/png": "[encoded data removed]",
      "text/plain": [
       "<Figure size 696.722x500 with 1 Axes>"
      ]
     },
     "metadata": {},
     "output_type": "display_data"
    }
   ],
   "source": [
    "# run gradient boosting classifier with best parameters that dont overfit\n",
    "gbc = GradientBoostingClassifier(learning_rate=grid.best_params_['gbc__learning_rate'],\n",
    "                                    n_estimators=grid.best_params_['gbc__n_estimators'],\n",
    "                                    max_depth=grid.best_params_['gbc__max_depth'])\n",
    "gbc.fit(X_train, y_train)\n",
    "y_pred = gbc.predict(X_test)\n",
    "print(classification_report(y_test, y_pred))\n",
    "\n",
    "# put grid search results into a dataframe\n",
    "grid_df = pd.DataFrame.from_dict(grid.cv_results_, orient='columns')\n",
    "\n",
    "# plot grid search results dataframe using relplot\n",
    "sns.relplot(x='param_gbc__learning_rate', y='mean_test_score',\n",
    "            hue='param_gbc__max_depth', data=grid_df)\n",
    "plt.title('Grid Search Results for Gradient Boosting Classifier')\n",
    "plt.xlabel('Learning Rate')\n",
    "plt.ylabel('Mean Test Score')\n"
   ]
  },
  {
   "cell_type": "markdown",
   "metadata": {},
   "source": [
    "Overfitting: SVM and Gradient Boosting Classifier\n",
    "\n",
    "Realistic models: Ordinal Regression or Logistic Regression with accuracy of 73%"
   ]
  }
 ],
 "metadata": {
  "kernelspec": {
   "display_name": "Python 3.9.7 ('base')",
   "language": "python",
   "name": "python3"
  },
  "language_info": {
   "codemirror_mode": {
    "name": "ipython",
    "version": 3
   },
   "file_extension": ".py",
   "mimetype": "text/x-python",
   "name": "python",
   "nbconvert_exporter": "python",
   "pygments_lexer": "ipython3",
   "version": "3.9.7"
  },
  "orig_nbformat": 4,
  "vscode": {
   "interpreter": {
    "hash": "3ae5dd81b9beee44f0777327b6fc03b59b2c05f9db8345977f42ebbaf281aeb5"
   }
  }
 },
 "nbformat": 4,
 "nbformat_minor": 2
}
